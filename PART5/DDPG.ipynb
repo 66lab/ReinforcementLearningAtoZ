{
 "cells": [
  {
   "cell_type": "code",
   "execution_count": 1,
   "metadata": {},
   "outputs": [],
   "source": [
    "import sys; sys.path.append('..') # add project root to the python path"
   ]
  },
  {
   "cell_type": "code",
   "execution_count": 2,
   "metadata": {},
   "outputs": [],
   "source": [
    "import torch\n",
    "import gym\n",
    "import numpy as np\n",
    "\n",
    "from src.part3.MLP import MultiLayerPerceptron as MLP\n",
    "\n",
    "from src.part5.DQN import prepare_training_inputs\n",
    "from src.part5.DDPG import DDPG, Actor, Critic\n",
    "from src.part5.DDPG import OrnsteinUhlenbeckProcess as OUProcess\n",
    "from src.common.memory.memory import ReplayMemory\n",
    "from src.common.train_utils import to_tensor\n",
    "from src.common.target_update import soft_update"
   ]
  },
  {
   "cell_type": "code",
   "execution_count": 3,
   "metadata": {},
   "outputs": [],
   "source": [
    "FROM_SCRATCH = False"
   ]
  },
  {
   "cell_type": "code",
   "execution_count": 4,
   "metadata": {},
   "outputs": [],
   "source": [
    "lr_mu = 0.005\n",
    "lr_q = 0.001\n",
    "gamma = 0.99\n",
    "batch_size  = 256\n",
    "memory_size = 50000\n",
    "tau = 0.001 # polyak parameter for soft target update\n",
    "sampling_only_until = 2000"
   ]
  },
  {
   "cell_type": "code",
   "execution_count": 5,
   "metadata": {},
   "outputs": [],
   "source": [
    "actor, actor_target = Actor(), Actor()\n",
    "critic, critic_target = Critic(), Critic()\n",
    "\n",
    "agent = DDPG(critic=critic,\n",
    "             critic_target=critic_target,\n",
    "             actor=actor,\n",
    "             actor_target=actor_target)\n",
    "\n",
    "memory = ReplayMemory(memory_size)"
   ]
  },
  {
   "cell_type": "code",
   "execution_count": 6,
   "metadata": {},
   "outputs": [
    {
     "name": "stderr",
     "output_type": "stream",
     "text": [
      "C:\\Users\\joon0\\Anaconda3\\envs\\gpu_torch130\\lib\\site-packages\\gym\\logger.py:30: UserWarning: \u001b[33mWARN: Box bound precision lowered by casting to float32\u001b[0m\n",
      "  warnings.warn(colorize('%s: %s'%('WARN', msg % args), 'yellow'))\n"
     ]
    }
   ],
   "source": [
    "total_eps = 1000\n",
    "print_every = 100\n",
    "\n",
    "env = gym.make('Pendulum-v0')\n",
    "\n",
    "if FROM_SCRATCH:\n",
    "    for n_epi in range(total_eps):\n",
    "        ou_noise = OUProcess(mu=np.zeros(1))\n",
    "        s = env.reset()\n",
    "        cum_r = 0\n",
    "\n",
    "        while True:\n",
    "            s = to_tensor(s, size=(1, 3))\n",
    "            a = agent.get_action(s).numpy() + ou_noise()[0]\n",
    "            ns, r, done, info = env.step(a)\n",
    "\n",
    "            experience = (s,\n",
    "                          torch.tensor(a).view(1, 1),\n",
    "                          torch.tensor(r).view(1, 1),\n",
    "                          torch.tensor(ns).view(1, 3),\n",
    "                          torch.tensor(done).view(1, 1))\n",
    "            memory.push(experience)\n",
    "\n",
    "            s = ns\n",
    "            cum_r += r\n",
    "\n",
    "            if len(memory) >= sampling_only_until:\n",
    "                # train agent\n",
    "                sampled_exps = memory.sample(batch_size)\n",
    "                sampled_exps = prepare_training_inputs(sampled_exps)\n",
    "                agent.update(*sampled_exps)\n",
    "                # update target networks\n",
    "                soft_update(agent.actor, agent.actor_target, tau)\n",
    "                soft_update(agent.critic, agent.critic_target, tau)        \n",
    "\n",
    "            if done:\n",
    "                break\n",
    "\n",
    "        if n_epi % print_every == 0:\n",
    "            msg = (n_epi, cum_r)\n",
    "            print(\"Episode : {} | Cumulative Reward : {} |\".format(*msg))\n",
    "\n",
    "    torch.save(agent.state_dict(), 'ddpg_cartpole.ptb')\n",
    "else:\n",
    "    agent.load_state_dict(torch.load('ddpg_cartpole.ptb'))"
   ]
  },
  {
   "cell_type": "code",
   "execution_count": null,
   "metadata": {},
   "outputs": [],
   "source": [
    "env = gym.make('Pendulum-v0')\n",
    "\n",
    "s = env.reset()\n",
    "env.render()\n",
    "cum_r = 0\n",
    "\n",
    "while True:\n",
    "    s = to_tensor(s, size=(1, 3))\n",
    "    a = agent.get_action(s).numpy()\n",
    "    ns, r, done, info = env.step(a)\n",
    "    s = ns\n",
    "    env.render()\n",
    "    if done:\n",
    "        break\n",
    "    \n",
    "env.close()"
   ]
  }
 ],
 "metadata": {
  "kernelspec": {
   "display_name": "Python 3",
   "language": "python",
   "name": "python3"
  },
  "language_info": {
   "codemirror_mode": {
    "name": "ipython",
    "version": 3
   },
   "file_extension": ".py",
   "mimetype": "text/x-python",
   "name": "python",
   "nbconvert_exporter": "python",
   "pygments_lexer": "ipython3",
   "version": "3.7.4"
  }
 },
 "nbformat": 4,
 "nbformat_minor": 4
}
