{
 "cells": [
  {
   "cell_type": "code",
   "execution_count": 3,
   "metadata": {},
   "outputs": [],
   "source": [
    "import sys; sys.path.append('..') # add project root to the python path"
   ]
  },
  {
   "cell_type": "code",
   "execution_count": 4,
   "metadata": {},
   "outputs": [
    {
     "ename": "ModuleNotFoundError",
     "evalue": "No module named 'src.part3'",
     "output_type": "error",
     "traceback": [
      "\u001b[0;31m---------------------------------------------------------------------------\u001b[0m",
      "\u001b[0;31mModuleNotFoundError\u001b[0m                       Traceback (most recent call last)",
      "\u001b[0;32m<ipython-input-4-dd4599a4cd67>\u001b[0m in \u001b[0;36m<module>\u001b[0;34m\u001b[0m\n\u001b[1;32m      3\u001b[0m \u001b[0;32mimport\u001b[0m \u001b[0mnumpy\u001b[0m \u001b[0;32mas\u001b[0m \u001b[0mnp\u001b[0m\u001b[0;34m\u001b[0m\u001b[0;34m\u001b[0m\u001b[0m\n\u001b[1;32m      4\u001b[0m \u001b[0;34m\u001b[0m\u001b[0m\n\u001b[0;32m----> 5\u001b[0;31m \u001b[0;32mfrom\u001b[0m \u001b[0msrc\u001b[0m\u001b[0;34m.\u001b[0m\u001b[0mpart3\u001b[0m\u001b[0;34m.\u001b[0m\u001b[0mMLP\u001b[0m \u001b[0;32mimport\u001b[0m \u001b[0mMultiLayerPerceptron\u001b[0m \u001b[0;32mas\u001b[0m \u001b[0mMLP\u001b[0m\u001b[0;34m\u001b[0m\u001b[0;34m\u001b[0m\u001b[0m\n\u001b[0m\u001b[1;32m      6\u001b[0m \u001b[0;32mfrom\u001b[0m \u001b[0msrc\u001b[0m\u001b[0;34m.\u001b[0m\u001b[0mpart5\u001b[0m\u001b[0;34m.\u001b[0m\u001b[0mDQN\u001b[0m \u001b[0;32mimport\u001b[0m \u001b[0mprepare_training_inputs\u001b[0m\u001b[0;34m\u001b[0m\u001b[0;34m\u001b[0m\u001b[0m\n\u001b[1;32m      7\u001b[0m \u001b[0;32mfrom\u001b[0m \u001b[0msrc\u001b[0m\u001b[0;34m.\u001b[0m\u001b[0mpart5\u001b[0m\u001b[0;34m.\u001b[0m\u001b[0mDDPG\u001b[0m \u001b[0;32mimport\u001b[0m \u001b[0mDDPG\u001b[0m\u001b[0;34m,\u001b[0m \u001b[0mActor\u001b[0m\u001b[0;34m,\u001b[0m \u001b[0mCritic\u001b[0m\u001b[0;34m\u001b[0m\u001b[0;34m\u001b[0m\u001b[0m\n",
      "\u001b[0;31mModuleNotFoundError\u001b[0m: No module named 'src.part3'"
     ]
    }
   ],
   "source": [
    "import torch\n",
    "import gym\n",
    "import numpy as np\n",
    "\n",
    "from src.part3.MLP import MultiLayerPerceptron as MLP\n",
    "from src.part5.DQN import prepare_training_inputs\n",
    "from src.part5.DDPG import DDPG, Actor, Critic\n",
    "from src.part5.DDPG import OrnsteinUhlenbeckProcess as OUProcess\n",
    "from src.common.memory.memory import ReplayMemory\n",
    "from src.common.train_utils import to_tensor\n",
    "from src.common.target_update import soft_update"
   ]
  },
  {
   "cell_type": "code",
   "execution_count": null,
   "metadata": {},
   "outputs": [],
   "source": [
    "FROM_SCRATCH = True"
   ]
  },
  {
   "cell_type": "markdown",
   "metadata": {},
   "source": [
    "## Deep deterministic Policy Gradient (DDPG)\n",
    "\n",
    "```python\n",
    "class DDPG(nn.Module):\n",
    "\n",
    "    def __init__(self,\n",
    "                 critic: nn.Module,\n",
    "                 critic_target: nn.Module,\n",
    "                 actor: nn.Module,\n",
    "                 actor_target: nn.Module,\n",
    "                 lr_critic: float = 0.0005,\n",
    "                 lr_actor: float = 0.001,\n",
    "                 gamma: float = 0.99):\n",
    "\n",
    "        super(DDPG, self).__init__()\n",
    "        self.critic = critic\n",
    "        self.actor = actor\n",
    "        self.lr_critic = lr_critic\n",
    "        self.lr_actor = lr_actor\n",
    "        self.gamma = gamma\n",
    "\n",
    "        # setup optimizers\n",
    "        self.critic_opt = torch.optim.Adam(params=self.critic.parameters(),\n",
    "                                           lr=lr_critic)\n",
    "\n",
    "        self.actor_opt = torch.optim.Adam(params=self.actor.parameters(),\n",
    "                                          lr=lr_actor)\n",
    "\n",
    "        # setup target networks\n",
    "        critic_target.load_state_dict(critic.state_dict())\n",
    "        self.critic_target = critic_target\n",
    "        actor_target.load_state_dict(actor.state_dict())\n",
    "        self.actor_target = actor_target\n",
    "\n",
    "        self.criteria = nn.SmoothL1Loss()\n",
    "\n",
    "    def get_action(self, state):\n",
    "        with torch.no_grad():\n",
    "            a = self.actor(state)\n",
    "        return a\n",
    "\n",
    "    def update(self, state, action, reward, next_state, done):\n",
    "        s, a, r, ns = state, action, reward, next_state\n",
    "\n",
    "        # compute critic loss and update the critic parameters\n",
    "        with torch.no_grad():\n",
    "            critic_target = r + self.gamma * self.critic_target(ns, self.actor_target(ns)) #* (1 - done)\n",
    "        critic_loss = self.criteria(self.critic(s, a), critic_target)\n",
    "\n",
    "        self.critic_opt.zero_grad()\n",
    "        critic_loss.backward()\n",
    "        self.critic_opt.step()\n",
    "\n",
    "        # compute actor loss and update the actor parameters\n",
    "        actor_loss = -self.critic(s, self.actor(s)).mean()  # !!!! Impressively simple\n",
    "        self.actor_opt.zero_grad()\n",
    "        actor_loss.backward()\n",
    "        self.actor_opt.step()\n",
    "```"
   ]
  },
  {
   "cell_type": "code",
   "execution_count": null,
   "metadata": {},
   "outputs": [],
   "source": [
    "lr_actor = 0.005\n",
    "lr_critic = 0.001\n",
    "gamma = 0.99\n",
    "batch_size  = 256\n",
    "memory_size = 50000\n",
    "tau = 0.001 # polyak parameter for soft target update\n",
    "sampling_only_until = 2000"
   ]
  },
  {
   "cell_type": "code",
   "execution_count": null,
   "metadata": {},
   "outputs": [],
   "source": [
    "actor, actor_target = Actor(), Actor()\n",
    "critic, critic_target = Critic(), Critic()\n",
    "\n",
    "agent = DDPG(critic=critic,\n",
    "             critic_target=critic_target,\n",
    "             actor=actor,\n",
    "             actor_target=actor_target,\n",
    "             lr_actor=lr_actor,\n",
    "             lr_critic=lr_critic)\n",
    "\n",
    "memory = ReplayMemory(memory_size)"
   ]
  },
  {
   "cell_type": "code",
   "execution_count": null,
   "metadata": {},
   "outputs": [],
   "source": [
    "total_eps = 1000\n",
    "print_every = 100\n",
    "\n",
    "env = gym.make('Pendulum-v0')\n",
    "\n",
    "if FROM_SCRATCH:\n",
    "    for n_epi in range(total_eps):\n",
    "        ou_noise = OUProcess(mu=np.zeros(1))\n",
    "        s = env.reset()\n",
    "        cum_r = 0\n",
    "\n",
    "        while True:\n",
    "            s = to_tensor(s, size=(1, 3))\n",
    "            a = agent.get_action(s).numpy() + ou_noise()[0]\n",
    "            ns, r, done, info = env.step(a)\n",
    "\n",
    "            experience = (s,\n",
    "                          torch.tensor(a).view(1, 1),\n",
    "                          torch.tensor(r).view(1, 1),\n",
    "                          torch.tensor(ns).view(1, 3),\n",
    "                          torch.tensor(done).view(1, 1))\n",
    "            memory.push(experience)\n",
    "\n",
    "            s = ns\n",
    "            cum_r += r\n",
    "\n",
    "            if len(memory) >= sampling_only_until:\n",
    "                # train agent\n",
    "                sampled_exps = memory.sample(batch_size)\n",
    "                sampled_exps = prepare_training_inputs(sampled_exps)\n",
    "                agent.update(*sampled_exps)\n",
    "                # update target networks\n",
    "                soft_update(agent.actor, agent.actor_target, tau)\n",
    "                soft_update(agent.critic, agent.critic_target, tau)        \n",
    "\n",
    "            if done:\n",
    "                break\n",
    "\n",
    "        if n_epi % print_every == 0:\n",
    "            msg = (n_epi, cum_r)\n",
    "            print(\"Episode : {} | Cumulative Reward : {} |\".format(*msg))\n",
    "\n",
    "    torch.save(agent.state_dict(), 'ddpg_cartpole2.ptb')\n",
    "else:\n",
    "    agent.load_state_dict(torch.load('ddpg_cartpole.ptb'))"
   ]
  },
  {
   "cell_type": "code",
   "execution_count": null,
   "metadata": {},
   "outputs": [],
   "source": [
    "env = gym.make('Pendulum-v0')\n",
    "\n",
    "s = env.reset()\n",
    "env.render()\n",
    "cum_r = 0\n",
    "\n",
    "while True:\n",
    "    s = to_tensor(s, size=(1, 3))\n",
    "    a = agent.get_action(s).numpy()\n",
    "    ns, r, done, info = env.step(a)\n",
    "    s = ns\n",
    "    env.render()\n",
    "    if done:\n",
    "        break\n",
    "    \n",
    "env.close()"
   ]
  }
 ],
 "metadata": {
  "kernelspec": {
   "display_name": "Python 3",
   "language": "python",
   "name": "python3"
  },
  "language_info": {
   "codemirror_mode": {
    "name": "ipython",
    "version": 3
   },
   "file_extension": ".py",
   "mimetype": "text/x-python",
   "name": "python",
   "nbconvert_exporter": "python",
   "pygments_lexer": "ipython3",
   "version": "3.8.0"
  }
 },
 "nbformat": 4,
 "nbformat_minor": 4
}
